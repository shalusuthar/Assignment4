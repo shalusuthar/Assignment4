{
 "cells": [
  {
   "cell_type": "markdown",
   "id": "2177ac82-9290-48db-935d-bff23e93f084",
   "metadata": {},
   "source": [
    "Q1. Create a python program to sort the given list of tuples based on integer value using a\n",
    "lambda function. \n",
    "\n",
    "[('Sachin Tendulkar', 34357), ('Ricky Ponting', 27483), ('Jack Kallis', 25534), ('Virat Kohli', 24936)]\n"
   ]
  },
  {
   "cell_type": "code",
   "execution_count": 2,
   "id": "9c1bd2d6-5cea-49c2-9817-4024a9ba6e21",
   "metadata": {},
   "outputs": [
    {
     "name": "stdout",
     "output_type": "stream",
     "text": [
      "original list of tuples:\n",
      "[('Sachin Tendulkar', 34357), ('Ricky Ponting', 27483), ('Jack Kallis', 25534), ('Virat Kohli', 24936)]\n",
      "\n",
      "sorting the List of tuples:\n",
      "[('Virat Kohli', 24936), ('Jack Kallis', 25534), ('Ricky Ponting', 27483), ('Sachin Tendulkar', 34357)]\n"
     ]
    }
   ],
   "source": [
    "l = [('Sachin Tendulkar', 34357), ('Ricky Ponting', 27483), ('Jack Kallis', 25534), ('Virat Kohli', 24936)]\n",
    "print(\"original list of tuples:\")\n",
    "print(l)\n",
    "l.sort(key = lambda x : x[1])\n",
    "print(\"\\nsorting the List of tuples:\")\n",
    "print(l)"
   ]
  },
  {
   "cell_type": "code",
   "execution_count": null,
   "id": "d7ca6875-62ee-4cda-bd51-e5c0870e26af",
   "metadata": {},
   "outputs": [],
   "source": []
  },
  {
   "cell_type": "markdown",
   "id": "5ccfb13e-aca9-413e-a64f-491695234e94",
   "metadata": {},
   "source": [
    "Q2. Write a Python Program to find the squares of all the numbers in the given list of integers using\n",
    "lambda and map functions.\n",
    "\n",
    "[1,2,3,4,5,6,7,8,9,10]\n"
   ]
  },
  {
   "cell_type": "code",
   "execution_count": 3,
   "id": "e0be9c8f-2add-4f9b-95fb-d538a56a304c",
   "metadata": {},
   "outputs": [
    {
     "name": "stdout",
     "output_type": "stream",
     "text": [
      "original list of integers:\n",
      "[1, 2, 3, 4, 5, 6, 7, 8, 9, 10]\n",
      "\n",
      "square every number of the said list:\n",
      "[1, 4, 9, 16, 25, 36, 49, 64, 81, 100]\n"
     ]
    }
   ],
   "source": [
    "nums = [1,2,3,4,5,6,7,8,9,10]\n",
    "print(\"original list of integers:\")\n",
    "print(nums)\n",
    "print(\"\\nsquare every number of the said list:\")\n",
    "square_nums = list(map(lambda x : x**2, nums))\n",
    "print(square_nums)"
   ]
  },
  {
   "cell_type": "code",
   "execution_count": null,
   "id": "7e3ba25a-52cb-4779-b7e8-291c5b492229",
   "metadata": {},
   "outputs": [],
   "source": []
  },
  {
   "cell_type": "markdown",
   "id": "3c95afef-3a87-4cf8-b447-740a0a924b3d",
   "metadata": {},
   "source": [
    "Q3. Write a python program to convert the given list of integers into a tuple of strings. Use map and\n",
    "lambda functions\n",
    "\n",
    "\n",
    "Given String: [1, 2, 3, 4, 5, 6, 7, 8, 9, 10]\n",
    "\n",
    "Expected output: ('1', '2', '3', '4', '5', '6', '7', '8', '9', '10')"
   ]
  },
  {
   "cell_type": "code",
   "execution_count": 3,
   "id": "7609a5ff-b233-4e05-b761-ca9ab85ebcc5",
   "metadata": {},
   "outputs": [
    {
     "name": "stdout",
     "output_type": "stream",
     "text": [
      "\n",
      "Tuple of strings:\n",
      "('1', '2', '3', '4', '5', '6', '7', '8', '9', '10')\n"
     ]
    }
   ],
   "source": [
    "nums_list = [1,2,3,4,5,6,7,8,9,10]\n",
    "result_tuple = tuple(map(str, nums_list))\n",
    "print(\"\\nTuple of strings:\")\n",
    "print(result_tuple)"
   ]
  },
  {
   "cell_type": "code",
   "execution_count": null,
   "id": "acf17a32-f443-4759-9c70-964620ee1c2b",
   "metadata": {},
   "outputs": [],
   "source": []
  },
  {
   "cell_type": "markdown",
   "id": "46c49999-3467-441c-a1da-82d9a498cee6",
   "metadata": {},
   "source": [
    "Q4.  Write a python program using reduce function to compute the product of a list containing numbers\n",
    "from 1 to 25.\n"
   ]
  },
  {
   "cell_type": "code",
   "execution_count": 3,
   "id": "fe164412-f624-4c87-b374-245f8cd090f0",
   "metadata": {},
   "outputs": [
    {
     "data": {
      "text/plain": [
       "15511210043330985984000000"
      ]
     },
     "execution_count": 3,
     "metadata": {},
     "output_type": "execute_result"
    }
   ],
   "source": [
    "import functools\n",
    "\n",
    "l = [1,2,3,4,5,6,7,8,9,10,11,12,13,14,15,16,17,18,19,20,21,22,23,24,25]\n",
    "\n",
    "functools.reduce(lambda x,y : x*y, l )"
   ]
  },
  {
   "cell_type": "code",
   "execution_count": null,
   "id": "2928cc6c-8b78-44f1-9d65-943332f1ada9",
   "metadata": {},
   "outputs": [],
   "source": []
  },
  {
   "cell_type": "code",
   "execution_count": null,
   "id": "93164255-3875-4da9-bffd-94d8dbf94d7e",
   "metadata": {},
   "outputs": [],
   "source": []
  },
  {
   "cell_type": "markdown",
   "id": "50218d56-e71d-4b03-bfc8-0a681e98482b",
   "metadata": {},
   "source": [
    "Q5. Write a python program to filter the numbers in a given list that are divisible by 2 and 3 using the\n",
    "filter function.\n",
    "\n",
    "\n",
    "[2, 3, 6, 9, 27, 60, 90, 120, 55, 46]\n"
   ]
  },
  {
   "cell_type": "code",
   "execution_count": 6,
   "id": "d4885d11-4984-4d1d-b551-d75182bd0402",
   "metadata": {},
   "outputs": [
    {
     "data": {
      "text/plain": [
       "[2, 6, 60, 90, 120, 46]"
      ]
     },
     "execution_count": 6,
     "metadata": {},
     "output_type": "execute_result"
    }
   ],
   "source": [
    "l = [2,3,6,27,60,90,120,55,46]\n",
    "\n",
    "list(filter(lambda x : x%2 == 0, l))\n"
   ]
  },
  {
   "cell_type": "code",
   "execution_count": 7,
   "id": "2ba0be10-03c5-4675-8d8c-1d2d2e9b8fc5",
   "metadata": {},
   "outputs": [
    {
     "data": {
      "text/plain": [
       "[3, 6, 27, 60, 90, 120]"
      ]
     },
     "execution_count": 7,
     "metadata": {},
     "output_type": "execute_result"
    }
   ],
   "source": [
    "list(filter(lambda x : x%3 == 0 ,l))"
   ]
  },
  {
   "cell_type": "code",
   "execution_count": null,
   "id": "26eab317-1a3b-442e-8d8d-7559ca481bed",
   "metadata": {},
   "outputs": [],
   "source": []
  },
  {
   "cell_type": "markdown",
   "id": "35c8b87a-0552-473f-a0d7-a5384d948dd8",
   "metadata": {},
   "source": [
    "Q6. Write a python program to find palindromes in the given list of strings using lambda and filter\n",
    "function.\n",
    "\n",
    "['python', 'php', 'aba', 'radar', 'level']"
   ]
  },
  {
   "cell_type": "code",
   "execution_count": 8,
   "id": "61f83e8c-46fc-44e2-9274-870d14b9f716",
   "metadata": {},
   "outputs": [
    {
     "name": "stdin",
     "output_type": "stream",
     "text": [
      "enter a list :  'python'\n"
     ]
    },
    {
     "name": "stdout",
     "output_type": "stream",
     "text": [
      "'python' is not a palindrome\n"
     ]
    }
   ],
   "source": [
    "n = input(\"enter a list : \")\n",
    "if n == n[::-1]:\n",
    "    print(n+ \" is a palindrome\")\n",
    "else:\n",
    "    print(n+ \" is not a palindrome\")"
   ]
  },
  {
   "cell_type": "code",
   "execution_count": 9,
   "id": "d736449d-1bda-408f-9e09-dfe708cc02ad",
   "metadata": {},
   "outputs": [
    {
     "name": "stdin",
     "output_type": "stream",
     "text": [
      "Enter a string ; 'php'\n"
     ]
    },
    {
     "name": "stdout",
     "output_type": "stream",
     "text": [
      "'php'is a palindrome\n"
     ]
    }
   ],
   "source": [
    "n = input(\"Enter a string ;\")\n",
    "if n == n[::-1]:\n",
    "    print(n+ \"is a palindrome\")\n",
    "else:\n",
    "    print(n+ \"is not a palindrome\")\n"
   ]
  },
  {
   "cell_type": "code",
   "execution_count": 10,
   "id": "855640e0-b909-4f5a-804c-8b82cee8e185",
   "metadata": {},
   "outputs": [
    {
     "name": "stdin",
     "output_type": "stream",
     "text": [
      "Enter a string ; 'aba'\n"
     ]
    },
    {
     "name": "stdout",
     "output_type": "stream",
     "text": [
      "'aba'is a palindrome\n"
     ]
    }
   ],
   "source": [
    "n = input(\"Enter a string ;\")\n",
    "if n == n[::-1]:\n",
    "    print(n+ \"is a palindrome\")\n",
    "else:\n",
    "    print(n+ \"is not a palindrome\")\n"
   ]
  },
  {
   "cell_type": "code",
   "execution_count": 11,
   "id": "50479132-280d-4a3c-b4fd-94ebe40ac4e7",
   "metadata": {},
   "outputs": [
    {
     "name": "stdin",
     "output_type": "stream",
     "text": [
      "Enter a string ; 'radar'\n"
     ]
    },
    {
     "name": "stdout",
     "output_type": "stream",
     "text": [
      "'radar'is a palindrome\n"
     ]
    }
   ],
   "source": [
    "n = input(\"Enter a string ;\")\n",
    "if n == n[::-1]:\n",
    "    print(n+ \"is a palindrome\")\n",
    "else:\n",
    "    print(n+ \"is not a palindrome\")\n"
   ]
  },
  {
   "cell_type": "code",
   "execution_count": null,
   "id": "3f6531e6-95bb-4d37-abc4-6a86575c4ae6",
   "metadata": {},
   "outputs": [],
   "source": []
  }
 ],
 "metadata": {
  "kernelspec": {
   "display_name": "Python 3 (ipykernel)",
   "language": "python",
   "name": "python3"
  },
  "language_info": {
   "codemirror_mode": {
    "name": "ipython",
    "version": 3
   },
   "file_extension": ".py",
   "mimetype": "text/x-python",
   "name": "python",
   "nbconvert_exporter": "python",
   "pygments_lexer": "ipython3",
   "version": "3.10.8"
  }
 },
 "nbformat": 4,
 "nbformat_minor": 5
}
